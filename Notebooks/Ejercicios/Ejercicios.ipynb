{
 "cells": [
  {
   "cell_type": "markdown",
   "metadata": {},
   "source": [
    "Python Club for Physicists"
   ]
  },
  {
   "cell_type": "markdown",
   "metadata": {},
   "source": [
    "# Python básico para físicos\n",
    "## Lista de ejercicios"
   ]
  },
  {
   "cell_type": "markdown",
   "metadata": {},
   "source": [
    "### Problema [1](https://codeforces.com/problemset/problem/4/A):  **Sandía**\n",
    "\n"
   ]
  },
  {
   "cell_type": "markdown",
   "metadata": {},
   "source": [
    "Un caluroso día de verano, Pete y su amigo Billy decidieron comprar una sandía. Eligieron el más grande y maduro, en su opinión. Después de eso, se pesó la sandía y la balanza mostró w kilos. Se apresuraron a casa, muriéndose de sed, y decidieron dividir la baya, sin embargo, enfrentaron un problema difícil.\n",
    "\n",
    "Pete y Billy son grandes fanáticos de los números pares, por eso quieren dividir la sandía de tal manera que cada una de las dos partes pese número par de kilos, al mismo tiempo no es obligatorio que las partes sean iguales. Los chicos están extremadamente cansados ​​y quieren comenzar su comida lo antes posible, por eso debes ayudarlos y averiguar si pueden dividir la sandía de la manera que quieran. Por supuesto, cada uno de ellos debería obtener una parte del peso positivo.\n",
    "\n",
    "**Entrada**\n",
    "\n",
    "La primera (y única) línea de entrada contiene el número entero w (1 ≤ w ≤ 100): el peso de la sandía comprada por los niños.\n",
    "\n",
    "**Salida**\n",
    "\n",
    "Imprimir SI, si los niños pueden dividir la sandía en dos partes, cada una de ellas con un peso par de kilos; y NO en el caso contrario."
   ]
  },
  {
   "cell_type": "code",
   "execution_count": null,
   "metadata": {},
   "outputs": [],
   "source": []
  },
  {
   "cell_type": "markdown",
   "metadata": {},
   "source": [
    "### Problema [2](https://codeforces.com/problemset/problem/339/A): **Ayuda Matemática**"
   ]
  },
  {
   "cell_type": "markdown",
   "metadata": {},
   "source": [
    "Xenia, la matemática principiante, es una estudiante de tercer año en la escuela primaria. Ahora está aprendiendo la operación de suma.\n",
    "\n",
    "El maestro ha escrito la suma de varios números. Los alumnos deben calcular la suma. Para facilitar el cálculo, la suma solo contiene los números 1, 2 y 3. Aún así, eso no es suficiente para Xenia. Ella solo está comenzando a contar, por lo que puede calcular una suma solo si los sumandos siguen en orden no decreciente. Por ejemplo, no puede calcular la suma 1 + 3 + 2 + 1, pero puede calcular las sumas 1 + 1 + 2 y 3 + 3.\n",
    "\n",
    "Tienes la suma que estaba escrita en la pizarra. Reorganice las sumas e imprima la suma de tal manera que Xenia pueda calcular la suma.\n",
    "\n",
    "**Entrada**\n",
    "\n",
    "La primera línea contiene una cadena no vacía s: la suma que Xenia necesita contar. La cadena s no contiene espacios. Solo contiene dígitos y caracteres \"+\". Además, la cadena s es una suma correcta de los números 1, 2 y 3. La cadena s tiene un máximo de 100 caracteres.\n",
    "\n",
    "**Salida**\n",
    "\n",
    "Imprime la nueva suma que Xenia pueda contar."
   ]
  },
  {
   "cell_type": "code",
   "execution_count": null,
   "metadata": {},
   "outputs": [],
   "source": []
  },
  {
   "cell_type": "markdown",
   "metadata": {},
   "source": [
    "### Problema 3: **Mecánica cuántica**"
   ]
  },
  {
   "cell_type": "markdown",
   "metadata": {},
   "source": [
    "_Referencia:_  Zetilli, Quantum Mechanics, Problema 3.6 (p. 197) \n",
    "\n",
    "Los posibles valores de energía de un sistema están dados por la ecuación de Schr&ouml;dinger \n",
    "\n",
    "$$\n",
    "\\hat{H}|\\psi\\rangle= E|\\psi\\rangle,\n",
    "$$\n",
    "\n",
    "donde $\\hat{H}$ es el hamiltoniano del sistema. Es decir, las posibles energías del sistema vienen a ser los autovalores del Hamiltoniano.\n",
    "\n",
    "Para este problema, consideremos el hamiltoniano\n",
    "\n",
    "$$\n",
    "\\hat{H} = E_0 \n",
    "\\begin{pmatrix}\n",
    "0 & i & 0 \\\\\n",
    "-i & 0 & 0 \\\\\n",
    "0 & 0 & -1\n",
    "\\end{pmatrix}\n",
    "$$\n",
    "\n",
    "1. Definir el hamiltoniano $\\hat{H}$.\n",
    "2. Verificar que el hamiltoniano es hermítico\n",
    "$$\n",
    "\\hat{H} = \\hat{H}^\\dagger\n",
    "$$\n",
    "3. Hallar los posibles valores de energía del sistema.\n",
    "4. Hallar los autovectores de $\\hat{H}$ y verificar para uno de estos que se cumple la ecuación de Schr&ouml;dinger."
   ]
  },
  {
   "cell_type": "code",
   "execution_count": null,
   "metadata": {},
   "outputs": [],
   "source": [
    "#Puede hacer E_0 un número real distinto de cero, por ejemplo: E_0 = 1\n",
    "#Resolver de manera numérica\n",
    "import numpy as np"
   ]
  },
  {
   "cell_type": "markdown",
   "metadata": {},
   "source": [
    "### Problema 4:"
   ]
  },
  {
   "cell_type": "markdown",
   "metadata": {},
   "source": [
    "Buscar datos que sean de su interés$^1$, realizar la limpieza y exploración de datos. Usando Pandas y  Matplotlib como librerías principales. Ver: [Taller 3](https://www.youtube.com/watch?v=XtTgRYnEJJE&t=833s&ab_channel=PythonClubforPhysicists)\n",
    "\n",
    "También puede buscar sus datos en [Kaggle](https://www.kaggle.com/)\n",
    "\n",
    "*1. puede usar cualquier fuente (siempre y cuando adjunte sus datos)*"
   ]
  },
  {
   "cell_type": "code",
   "execution_count": null,
   "metadata": {},
   "outputs": [],
   "source": []
  },
  {
   "cell_type": "markdown",
   "metadata": {},
   "source": [
    "### Problema 5:"
   ]
  },
  {
   "cell_type": "markdown",
   "metadata": {},
   "source": [
    "5.1 Cree una gráfica de $x_2⋅sin(\\frac{1}{x2}) + x$ en el intervalo $[−1,1]$ usando 500 puntos. \n",
    "Añadir todos los detalles posibles al gráfico"
   ]
  },
  {
   "cell_type": "code",
   "execution_count": null,
   "metadata": {},
   "outputs": [],
   "source": []
  },
  {
   "cell_type": "markdown",
   "metadata": {},
   "source": [
    "5.2 Cree una matriz aleatoria de 6 × 10 utilizando la función *np.random.rand(3, 5)* y calcule: la suma de todas las entradas, la suma de las filas y la suma de las columnas."
   ]
  },
  {
   "cell_type": "code",
   "execution_count": null,
   "metadata": {},
   "outputs": [],
   "source": []
  },
  {
   "cell_type": "markdown",
   "metadata": {},
   "source": [
    "Enviar sus respuestas a nuestro correo: pythonclubforphysicists@gmail.com\n",
    "\n",
    "####  *Asunto del correo: \"Ejercicios_PCP\"*"
   ]
  }
 ],
 "metadata": {
  "kernelspec": {
   "display_name": "Python 3",
   "language": "python",
   "name": "python3"
  },
  "language_info": {
   "codemirror_mode": {
    "name": "ipython",
    "version": 3
   },
   "file_extension": ".py",
   "mimetype": "text/x-python",
   "name": "python",
   "nbconvert_exporter": "python",
   "pygments_lexer": "ipython3",
   "version": "3.8.3"
  }
 },
 "nbformat": 4,
 "nbformat_minor": 4
}
