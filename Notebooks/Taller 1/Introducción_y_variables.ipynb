{
  "nbformat": 4,
  "nbformat_minor": 0,
  "metadata": {
    "kernelspec": {
      "display_name": "Python 3",
      "language": "python",
      "name": "python3"
    },
    "language_info": {
      "codemirror_mode": {
        "name": "ipython",
        "version": 3
      },
      "file_extension": ".py",
      "mimetype": "text/x-python",
      "name": "python",
      "nbconvert_exporter": "python",
      "pygments_lexer": "ipython3",
      "version": "3.6.5"
    },
    "colab": {
      "name": "Introducción y variables.ipynb",
      "provenance": [],
      "collapsed_sections": []
    }
  },
  "cells": [
    {
      "cell_type": "markdown",
      "metadata": {
        "id": "Br3xGCjw10YS"
      },
      "source": [
        "# Hello World!\n",
        "Añadamos la famosa línea *\"Hello World!\"*\n",
        "\n",
        "\n",
        "\n"
      ]
    },
    {
      "cell_type": "code",
      "metadata": {
        "id": "qv1QJPdZ10YU",
        "outputId": "5abc241b-2cfa-419c-e04a-56a673097970",
        "colab": {
          "base_uri": "https://localhost:8080/",
          "height": 34
        }
      },
      "source": [
        "message = \"Hello World!\"\n",
        "\n",
        "print(message)"
      ],
      "execution_count": null,
      "outputs": [
        {
          "output_type": "stream",
          "text": [
            "Hello World!\n"
          ],
          "name": "stdout"
        }
      ]
    },
    {
      "cell_type": "markdown",
      "metadata": {
        "id": "XJN4OH8s10Yh"
      },
      "source": [
        "Acabamos de definir una variable llamada `message` cuyo valor/información es `Hello World!`.\n",
        "\n",
        "Básicamente, lo que estamos haciendo es que Python se convierta en un intérprete. En este caso, en la primera línea define la variable `message` y en la siguiente con el comando `print` nos lo muestra en pantalla.\n",
        "\n",
        "Veamos ahora algunas nociones de iniciación para programadores."
      ]
    },
    {
      "cell_type": "markdown",
      "metadata": {
        "id": "gbS9u9Kv10Yj"
      },
      "source": [
        "## Nomenclatura de variables\n",
        "\n",
        "Podría parecer un apartado muy poco relevante, pero a la hora de escribir el nombre de una variable se cometen muchos errores. Veamos una guía para hacer el código más limpio y entendible:\n",
        "\n",
        "- El nombre de las variables sólo contiene letras números y `_`. Nunca empiezan por un carácter numérico. Por ejemplo, el nombre `variable_1` estaría correcto pero no `1_variable`.\n",
        "\n",
        "- Los espacios no están permitidos en el nombre de las variables. Es decir, `variable_edad` estaría correcto pero `variable edad` no lo estaría.\n",
        "\n",
        "- Evitar *keywords* de Python como nombres de variables, por ejemplo, como crear una variable que se llame `print`.\n",
        "\n",
        "- Las variables serán en la medida de lo posible descriptivas y simples. \n",
        "\n",
        "- Python distingue entre mayúsculas y minúsculas por lo que es conveniente poner todo en minúsculas.\n",
        "\n",
        "Algunos ejemplos de errores:"
      ]
    },
    {
      "cell_type": "code",
      "metadata": {
        "id": "zRdTBRBO10Yk"
      },
      "source": [
        "variable_1 = 'Hello'"
      ],
      "execution_count": null,
      "outputs": []
    },
    {
      "cell_type": "code",
      "metadata": {
        "id": "XkK59Nrs10Yq",
        "outputId": "0ecd1fd5-f946-4819-e755-aae669250724",
        "colab": {
          "base_uri": "https://localhost:8080/",
          "height": 34
        }
      },
      "source": [
        "variable_edad = 25.\n",
        "variable_edad"
      ],
      "execution_count": null,
      "outputs": [
        {
          "output_type": "execute_result",
          "data": {
            "text/plain": [
              "25.0"
            ]
          },
          "metadata": {
            "tags": []
          },
          "execution_count": 9
        }
      ]
    },
    {
      "cell_type": "code",
      "metadata": {
        "id": "qZvlx_SYvKMw",
        "outputId": "3a91ee82-9931-466b-8e88-3834e1923972",
        "colab": {
          "base_uri": "https://localhost:8080/",
          "height": 34
        }
      },
      "source": [
        "type(variable_edad)"
      ],
      "execution_count": null,
      "outputs": [
        {
          "output_type": "execute_result",
          "data": {
            "text/plain": [
              "float"
            ]
          },
          "metadata": {
            "tags": []
          },
          "execution_count": 11
        }
      ]
    },
    {
      "cell_type": "code",
      "metadata": {
        "id": "AbfX04BQvkEH",
        "outputId": "37825e70-fe19-46b3-e9eb-cb234d9502b4",
        "colab": {
          "base_uri": "https://localhost:8080/",
          "height": 34
        }
      },
      "source": [
        "25./25"
      ],
      "execution_count": null,
      "outputs": [
        {
          "output_type": "execute_result",
          "data": {
            "text/plain": [
              "1.0"
            ]
          },
          "metadata": {
            "tags": []
          },
          "execution_count": 13
        }
      ]
    },
    {
      "cell_type": "code",
      "metadata": {
        "id": "YXIZv52l10Yx",
        "outputId": "6df95b16-5e85-4112-8573-a04587da222a",
        "colab": {
          "base_uri": "https://localhost:8080/",
          "height": 128
        }
      },
      "source": [
        "variable edad = 25"
      ],
      "execution_count": null,
      "outputs": [
        {
          "output_type": "error",
          "ename": "SyntaxError",
          "evalue": "ignored",
          "traceback": [
            "\u001b[0;36m  File \u001b[0;32m\"<ipython-input-14-35292db17844>\"\u001b[0;36m, line \u001b[0;32m1\u001b[0m\n\u001b[0;31m    variable edad = 25\u001b[0m\n\u001b[0m                ^\u001b[0m\n\u001b[0;31mSyntaxError\u001b[0m\u001b[0;31m:\u001b[0m invalid syntax\n"
          ]
        }
      ]
    },
    {
      "cell_type": "markdown",
      "metadata": {
        "id": "pj7z3PDT10Y4"
      },
      "source": [
        "Para escribir comentarios en el código se utiliza `#`. Son muy importantes pues en la vida laboral los proyectos de programación pasan de una persona a otra y ahorra mucho tiempo el tener una explicación de lo que hace el código mediante comentarios."
      ]
    },
    {
      "cell_type": "markdown",
      "metadata": {
        "id": "nYTUj8lp10Y5"
      },
      "source": [
        "## Interpretación de errores\n",
        "Siguiendo el hilo de los errores anteriores, todos y cada uno de los programadores del mundo cometemos errores cada día pero es de buen programador saber interpretarlos y resolverlos.\n",
        "\n",
        "Imaginemos que después de estar horas programando se nos olvida una `s` de nuestra variable `message`:"
      ]
    },
    {
      "cell_type": "code",
      "metadata": {
        "id": "SxBy7Q_n10Y6",
        "outputId": "34843358-38a3-4f79-dc67-18c0f5b890b5",
        "colab": {
          "base_uri": "https://localhost:8080/",
          "height": 34
        }
      },
      "source": [
        "message = 'Hi Lidia!'\n",
        "print(message)"
      ],
      "execution_count": null,
      "outputs": [
        {
          "output_type": "stream",
          "text": [
            "Hi Lidia!\n"
          ],
          "name": "stdout"
        }
      ]
    },
    {
      "cell_type": "markdown",
      "metadata": {
        "id": "fAZ6rlhc10ZB"
      },
      "source": [
        "Una de las grandes ventajas de Python es que cada vez que tengamos un error nos indicará al menos la línea donde se encuentra por lo que podremos corregirlo fácilmente."
      ]
    },
    {
      "cell_type": "code",
      "metadata": {
        "id": "0hMXhH8510ZC",
        "outputId": "401c0944-c299-4849-b86d-29ba4485bebb"
      },
      "source": [
        "print(message)"
      ],
      "execution_count": null,
      "outputs": [
        {
          "output_type": "stream",
          "text": [
            "Hi Lidia!\n"
          ],
          "name": "stdout"
        }
      ]
    },
    {
      "cell_type": "markdown",
      "metadata": {
        "id": "UCBh_3BM10ZH"
      },
      "source": [
        "Cuando el código empieza a ser largo y complejo gracias a tener una buena nomenclatura de variables, entre otras cosas,  nos será más fácil resolver e identificar los errores. \n"
      ]
    },
    {
      "cell_type": "markdown",
      "metadata": {
        "id": "pxz62EQu10ZH"
      },
      "source": [
        "## Tipo de variable: cadenas de texto\n",
        "\n",
        "Veamos algunos comandos básicos de cadenas de texto:"
      ]
    },
    {
      "cell_type": "code",
      "metadata": {
        "id": "tXk7qJtu10ZI",
        "outputId": "4a6de765-9b44-4de7-c156-ae1fc0a32218",
        "colab": {
          "base_uri": "https://localhost:8080/",
          "height": 34
        }
      },
      "source": [
        "# títulos\n",
        "name = 'lidia orts'\n",
        "print(name.title())"
      ],
      "execution_count": null,
      "outputs": [
        {
          "output_type": "stream",
          "text": [
            "Lidia Orts\n"
          ],
          "name": "stdout"
        }
      ]
    },
    {
      "cell_type": "code",
      "metadata": {
        "id": "-cpj5BDi10ZL",
        "outputId": "2c5d2b61-f83f-4917-c958-6cb05cd1e42d",
        "colab": {
          "base_uri": "https://localhost:8080/",
          "height": 34
        }
      },
      "source": [
        "# letras en mayúsculas\n",
        "print(name.upper())"
      ],
      "execution_count": null,
      "outputs": [
        {
          "output_type": "stream",
          "text": [
            "LIDIA ORTS\n"
          ],
          "name": "stdout"
        }
      ]
    },
    {
      "cell_type": "code",
      "metadata": {
        "id": "Aw_iu1we10ZQ",
        "outputId": "e85184e7-9565-4ab3-d36a-b7e56616996e",
        "colab": {
          "base_uri": "https://localhost:8080/",
          "height": 34
        }
      },
      "source": [
        "# letras en minúsculas\n",
        "print(name.lower())"
      ],
      "execution_count": null,
      "outputs": [
        {
          "output_type": "stream",
          "text": [
            "lidia orts\n"
          ],
          "name": "stdout"
        }
      ]
    },
    {
      "cell_type": "code",
      "metadata": {
        "id": "XwR_dTeR10ZT",
        "outputId": "f4a79dba-d5fa-445e-bcdb-059081d7bbcc"
      },
      "source": [
        "# concatenación de cadenas\n",
        "first_name = 'Lidia'\n",
        "last_name = 'Orts'\n",
        "full_name = first_name + \" \" + last_name\n",
        "\n",
        "print(full_name)"
      ],
      "execution_count": null,
      "outputs": [
        {
          "output_type": "stream",
          "text": [
            "Lidia Orts\n"
          ],
          "name": "stdout"
        }
      ]
    },
    {
      "cell_type": "code",
      "metadata": {
        "id": "RwgzhI-WyfD8",
        "outputId": "fda305dd-f054-4cc2-c8a2-478563c54547",
        "colab": {
          "base_uri": "https://localhost:8080/",
          "height": 35
        }
      },
      "source": [
        "\"'Lidia Orts'\""
      ],
      "execution_count": null,
      "outputs": [
        {
          "output_type": "execute_result",
          "data": {
            "application/vnd.google.colaboratory.intrinsic+json": {
              "type": "string"
            },
            "text/plain": [
              "\"'Lidia Orts\""
            ]
          },
          "metadata": {
            "tags": []
          },
          "execution_count": 20
        }
      ]
    },
    {
      "cell_type": "code",
      "metadata": {
        "id": "OWPWM4XI10ZZ",
        "outputId": "79b3eb72-ee40-4afc-f569-5d66ef6b926c"
      },
      "source": [
        "# añadimos un espacio con el comando \\t\n",
        "print('Hola')\n",
        "print(\"\\tHola!\")"
      ],
      "execution_count": null,
      "outputs": [
        {
          "output_type": "stream",
          "text": [
            "Hola\n",
            "\tHola!\n"
          ],
          "name": "stdout"
        }
      ]
    },
    {
      "cell_type": "code",
      "metadata": {
        "id": "cBlxGiJA10Zd",
        "outputId": "64c05254-fd7e-4e7e-c9e8-41203a4ce612"
      },
      "source": [
        "# añadimos una nueva línea con el comando \\n\n",
        "print('Hola\\nqué tal\\n?')"
      ],
      "execution_count": null,
      "outputs": [
        {
          "output_type": "stream",
          "text": [
            "Hola\n",
            "qué tal\n",
            "?\n"
          ],
          "name": "stdout"
        }
      ]
    },
    {
      "cell_type": "markdown",
      "metadata": {
        "id": "7gdOjwF210Zk"
      },
      "source": [
        "Un problema muy común que podemos encontrar tratando con nombres de columnas, textos, variables de texto etc... es el problema de **espacios**. Tener una palabra/texto que tiene un espacio al final o al principio que a primera vista no conseguimos identificar. Una buena manera de resolverlo es utilizando `rstrip()` o `lstrip()` para derecha e iquierza respectivamente.  "
      ]
    },
    {
      "cell_type": "code",
      "metadata": {
        "id": "msmFfsUb10Zl",
        "outputId": "b8f07def-64c1-445c-cd15-9f9f84091afd"
      },
      "source": [
        "# Nos encontramos ante un problema de espacios por la derecha\n",
        "# reescribimos\n",
        "mi_lengua_materna = 'español '\n",
        "print(mi_lengua_materna)\n",
        "mi_lengua_materna = mi_lengua_materna.rstrip()\n",
        "mi_lengua_materna\n",
        "print(mi_lengua_materna)\n",
        "mi_segunda_lengua = ' ingles'\n",
        "print(mi_segunda_lengua)\n",
        "mi_segunda_lengua = mi_segunda_lengua.lstrip()\n",
        "print(mi_segunda_lengua)"
      ],
      "execution_count": null,
      "outputs": [
        {
          "output_type": "stream",
          "text": [
            "español \n",
            "español\n",
            " ingles\n",
            "ingles\n"
          ],
          "name": "stdout"
        }
      ]
    },
    {
      "cell_type": "markdown",
      "metadata": {
        "id": "8_LKceFl10Zo"
      },
      "source": [
        "Otro posible error con el que nos podemos topar cuando escribimos cadenas de texto es el siguiente:"
      ]
    },
    {
      "cell_type": "code",
      "metadata": {
        "id": "zVAIJbJB10Zp",
        "outputId": "53f7a536-cf50-4d24-8a2a-382cfad2cf6a"
      },
      "source": [
        "posible_error = 'Hi, I'm Lidia"
      ],
      "execution_count": null,
      "outputs": [
        {
          "output_type": "error",
          "ename": "SyntaxError",
          "evalue": "invalid syntax (<ipython-input-18-883a83fd1a2a>, line 1)",
          "traceback": [
            "\u001b[1;36m  File \u001b[1;32m\"<ipython-input-18-883a83fd1a2a>\"\u001b[1;36m, line \u001b[1;32m1\u001b[0m\n\u001b[1;33m    posible_error = 'Hi, I'm Lidia\u001b[0m\n\u001b[1;37m                           ^\u001b[0m\n\u001b[1;31mSyntaxError\u001b[0m\u001b[1;31m:\u001b[0m invalid syntax\n"
          ]
        }
      ]
    },
    {
      "cell_type": "markdown",
      "metadata": {
        "id": "6jtzM8Vh10Zs"
      },
      "source": [
        "Para corregirlo utilicemos un tipo de comillas para englobar el texto y otro tipo para los apóstrofes:"
      ]
    },
    {
      "cell_type": "code",
      "metadata": {
        "id": "g224CAVs10Zt",
        "outputId": "f0c475fd-28da-4a8a-b370-e0204eb7f590"
      },
      "source": [
        "corregir_error = \"Hi, I'm Lidia\"\n",
        "print(corregir_error)"
      ],
      "execution_count": null,
      "outputs": [
        {
          "output_type": "stream",
          "text": [
            "Hi, I'm Lidia\n"
          ],
          "name": "stdout"
        }
      ]
    },
    {
      "cell_type": "markdown",
      "metadata": {
        "id": "xbyIb4M910Z5"
      },
      "source": [
        "## Tipo de variable:  numérica\n",
        "\n",
        "Las variables numéricas son utilizadas continuamente en programación. Como en el mundo matemático, existen los números reales (`float`), los enteros(`int`) y los complejos(`commplex`). \n",
        "\n",
        "**Nota**: Una función que vamos a utilizar es `type` que nos indica la tipología de la variable."
      ]
    },
    {
      "cell_type": "code",
      "metadata": {
        "id": "WIVra1s510Z6",
        "outputId": "ef8f8601-7953-4fbf-dbbe-87be0eaf4ed4"
      },
      "source": [
        "# entero\n",
        "x = 3\n",
        "type(x)"
      ],
      "execution_count": null,
      "outputs": [
        {
          "output_type": "execute_result",
          "data": {
            "text/plain": [
              "int"
            ]
          },
          "metadata": {
            "tags": []
          },
          "execution_count": 54
        }
      ]
    },
    {
      "cell_type": "code",
      "metadata": {
        "id": "n6RZ3meM10Z9",
        "outputId": "a3e9aa8e-8ecf-4664-8f0d-db560b1acc73"
      },
      "source": [
        "# real / float\n",
        "y = 3.5\n",
        "type(y)"
      ],
      "execution_count": null,
      "outputs": [
        {
          "output_type": "execute_result",
          "data": {
            "text/plain": [
              "float"
            ]
          },
          "metadata": {
            "tags": []
          },
          "execution_count": 55
        }
      ]
    },
    {
      "cell_type": "code",
      "metadata": {
        "id": "dE-Gl2NCO9kv",
        "outputId": "55c05692-9f9c-41e4-bb30-fe2994bed48f",
        "colab": {
          "base_uri": "https://localhost:8080/",
          "height": 50
        }
      },
      "source": [
        "G=6.674e-11\n",
        "M=6.39e23\n",
        "print(\"Constante gravitacional: \",G,\"\\n Masa de la Tierra: \",M)"
      ],
      "execution_count": null,
      "outputs": [
        {
          "output_type": "stream",
          "text": [
            "Constante gravitacional:  6.674e-11 \n",
            " Masa de la Tierra:  6.39e+23\n"
          ],
          "name": "stdout"
        }
      ]
    },
    {
      "cell_type": "code",
      "metadata": {
        "id": "u6GxZ5x_10aE",
        "outputId": "08a13a9d-a5de-46b3-aec8-ddebbd38a371",
        "colab": {
          "base_uri": "https://localhost:8080/",
          "height": 50
        }
      },
      "source": [
        "# complejo\n",
        "x=1\n",
        "y=2\n",
        "# manera1\n",
        "z = 1+1j\n",
        "print(z)\n",
        "z2 = complex(x,y)\n",
        "print(z2)"
      ],
      "execution_count": null,
      "outputs": [
        {
          "output_type": "stream",
          "text": [
            "(1+1j)\n",
            "(1+2j)\n"
          ],
          "name": "stdout"
        }
      ]
    },
    {
      "cell_type": "code",
      "metadata": {
        "id": "bglwhRuj10aH",
        "outputId": "5e78954e-9de7-4fc0-bb87-50789e8c49b5",
        "colab": {
          "base_uri": "https://localhost:8080/",
          "height": 101
        }
      },
      "source": [
        "print('SUMA', x + y)\n",
        "print('RESTA', x - y)\n",
        "print('MULTIPLICACIÓN', x*y)\n",
        "print('DIVISIÓN', x/y)\n",
        "print('EXPONENCIAL', x**y)"
      ],
      "execution_count": null,
      "outputs": [
        {
          "output_type": "stream",
          "text": [
            "SUMA 3\n",
            "RESTA -1\n",
            "MULTIPLICACIÓN 2\n",
            "DIVISIÓN 0.5\n",
            "EXPONENCIAL 1\n"
          ],
          "name": "stdout"
        }
      ]
    },
    {
      "cell_type": "markdown",
      "metadata": {
        "id": "7DgWam7B10aN"
      },
      "source": [
        "## Mensajes combinados de variables de distinto tipo\n",
        "\n",
        "Es útil cuando damos un resultado o hacemos alguna explicación mostrar en pantalla un mensaje que combine distintos tipos de variables. Es muy sencillo."
      ]
    },
    {
      "cell_type": "code",
      "metadata": {
        "id": "tdvcfkHN10aO",
        "outputId": "43b04b27-12d2-430a-8b3b-ebaec43d1317"
      },
      "source": [
        "age = 25\n",
        "print('I am',age,'years old')"
      ],
      "execution_count": null,
      "outputs": [
        {
          "output_type": "stream",
          "text": [
            "I am 25 years old\n"
          ],
          "name": "stdout"
        }
      ]
    },
    {
      "cell_type": "code",
      "metadata": {
        "id": "AA92KdKA10aS",
        "outputId": "16ce9d18-43ab-4692-a71b-5be5dbfb8458"
      },
      "source": [
        "x = 'I am ' +  str(age) + ' years old'\n",
        "print(x)"
      ],
      "execution_count": null,
      "outputs": [
        {
          "output_type": "stream",
          "text": [
            "I am 25 years old\n"
          ],
          "name": "stdout"
        }
      ]
    },
    {
      "cell_type": "markdown",
      "metadata": {
        "id": "AncwX1ik10aV"
      },
      "source": [
        "**Nota**:\n",
        "Utilizamos el comando `str` para que todo lo que le metamos pase a ser cadena de texto. A su vez, si tenemos una cadena de texto que puede ser interpretada como numérica utilizamos el comando `int` o `float`."
      ]
    },
    {
      "cell_type": "markdown",
      "metadata": {
        "id": "18ZpaQwp3Vix"
      },
      "source": [
        "$ \\lambda $"
      ]
    },
    {
      "cell_type": "code",
      "metadata": {
        "id": "AGWcXX582lQ_",
        "outputId": "9a271009-5aac-46b5-a74f-7feed89f4765",
        "colab": {
          "base_uri": "https://localhost:8080/",
          "height": 35
        }
      },
      "source": [
        "'$\\\\lambda$'b"
      ],
      "execution_count": null,
      "outputs": [
        {
          "output_type": "execute_result",
          "data": {
            "application/vnd.google.colaboratory.intrinsic+json": {
              "type": "string"
            },
            "text/plain": [
              "'$\\\\lambda$'"
            ]
          },
          "metadata": {
            "tags": []
          },
          "execution_count": 30
        }
      ]
    },
    {
      "cell_type": "code",
      "metadata": {
        "id": "zZZ-j08J4Py_",
        "outputId": "71049eb2-67a9-4190-f22e-58a0223858ba",
        "colab": {
          "base_uri": "https://localhost:8080/"
        }
      },
      "source": [
        "a=3\n",
        "b=7\n",
        "a+b"
      ],
      "execution_count": null,
      "outputs": [
        {
          "output_type": "execute_result",
          "data": {
            "text/plain": [
              "10"
            ]
          },
          "metadata": {
            "tags": []
          },
          "execution_count": 31
        }
      ]
    },
    {
      "cell_type": "code",
      "metadata": {
        "id": "pC6Emwhc10aW",
        "outputId": "be4a6c8d-bfdf-4571-b52b-bc28ad8c7e23"
      },
      "source": [
        "x = '25'\n",
        "x = int(x)\n",
        "print(x)\n",
        "type(x)"
      ],
      "execution_count": null,
      "outputs": [
        {
          "output_type": "stream",
          "text": [
            "25\n"
          ],
          "name": "stdout"
        },
        {
          "output_type": "execute_result",
          "data": {
            "text/plain": [
              "int"
            ]
          },
          "metadata": {
            "tags": []
          },
          "execution_count": 67
        }
      ]
    },
    {
      "cell_type": "code",
      "metadata": {
        "id": "uby0x-Ki1xwh",
        "outputId": "fab42cf4-be69-4deb-ca9b-1a26de04bd96",
        "colab": {
          "base_uri": "https://localhost:8080/",
          "height": 35
        }
      },
      "source": [
        "z='25'\n",
        "g='81'\n",
        "z+g"
      ],
      "execution_count": null,
      "outputs": [
        {
          "output_type": "execute_result",
          "data": {
            "application/vnd.google.colaboratory.intrinsic+json": {
              "type": "string"
            },
            "text/plain": [
              "'2581'"
            ]
          },
          "metadata": {
            "tags": []
          },
          "execution_count": 28
        }
      ]
    },
    {
      "cell_type": "markdown",
      "metadata": {
        "id": "AwnHU-lX46h7"
      },
      "source": [
        "Credits: inspired from LPython93"
      ]
    }
  ]
}